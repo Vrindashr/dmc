{
 "cells": [
  {
   "cell_type": "code",
   "execution_count": 19,
   "metadata": {
    "collapsed": true
   },
   "outputs": [],
   "source": [
    "%matplotlib inline\n",
    "\n",
    "from matplotlib.pyplot import imshow\n",
    "import matplotlib.pyplot as plt\n",
    "import numpy as np\n",
    "from scipy import misc\n",
    "\n",
    "import os\n",
    "import random\n",
    "import pickle"
   ]
  },
  {
   "cell_type": "code",
   "execution_count": 20,
   "metadata": {
    "collapsed": false
   },
   "outputs": [
    {
     "ename": "MemoryError",
     "evalue": "",
     "output_type": "error",
     "traceback": [
      "\u001b[0;31m---------------------------------------------------------------------------\u001b[0m",
      "\u001b[0;31mMemoryError\u001b[0m                               Traceback (most recent call last)",
      "\u001b[0;32m<ipython-input-20-7e3e6a82c6ad>\u001b[0m in \u001b[0;36m<module>\u001b[0;34m()\u001b[0m\n\u001b[1;32m     11\u001b[0m         \u001b[0mimg\u001b[0m \u001b[0;34m=\u001b[0m \u001b[0mimg\u001b[0m\u001b[0;34m[\u001b[0m\u001b[0;34m:\u001b[0m\u001b[0;34m,\u001b[0m\u001b[0;34m:\u001b[0m\u001b[0;34m,\u001b[0m\u001b[0;36m0\u001b[0m\u001b[0;34m]\u001b[0m\u001b[0;34m\u001b[0m\u001b[0m\n\u001b[1;32m     12\u001b[0m \u001b[0;34m\u001b[0m\u001b[0m\n\u001b[0;32m---> 13\u001b[0;31m     \u001b[0mimg\u001b[0m \u001b[0;34m=\u001b[0m \u001b[0mimg\u001b[0m \u001b[0;34m/\u001b[0m \u001b[0;36m255.0\u001b[0m\u001b[0;34m\u001b[0m\u001b[0m\n\u001b[0m\u001b[1;32m     14\u001b[0m     \u001b[0mimgs\u001b[0m\u001b[0;34m[\u001b[0m\u001b[0mfileName\u001b[0m\u001b[0;34m]\u001b[0m \u001b[0;34m=\u001b[0m \u001b[0mimg\u001b[0m\u001b[0;34m\u001b[0m\u001b[0m\n\u001b[1;32m     15\u001b[0m \u001b[0;34m\u001b[0m\u001b[0m\n",
      "\u001b[0;31mMemoryError\u001b[0m: "
     ]
    }
   ],
   "source": [
    "imageFolder = \"-images\"\n",
    "\n",
    "image_dim = 3 #RGB\n",
    "\n",
    "imgs = {}\n",
    "\n",
    "for fileName in [\"aerial.jpg\", \"2000.jpg\", \"2005.jpg\", \"2010.jpg\", \"2016.jpg\"]:\n",
    "    img = misc.imread(\"/\".join([imageFolder, fileName]))\n",
    "\n",
    "    if image_dim == 1 and len(img.shape) > 2: \n",
    "        img = img[:,:,0]\n",
    "        \n",
    "    img = img / 255.0\n",
    "    imgs[fileName] = img\n",
    "\n",
    "print \"Load data complete\""
   ]
  },
  {
   "cell_type": "code",
   "execution_count": null,
   "metadata": {
    "collapsed": false
   },
   "outputs": [],
   "source": [
    "img = imgs[\"aerial.jpg\"]\n",
    "print \"image dimensions:\", img.shape\n",
    "\n",
    "imshow(img, cmap = plt.get_cmap('gray'), vmin = 0, vmax = 1,  interpolation='nearest')\n",
    "plt.axis('off')\n",
    "plt.show()"
   ]
  },
  {
   "cell_type": "code",
   "execution_count": null,
   "metadata": {
    "collapsed": false
   },
   "outputs": [],
   "source": [
    "import math\n",
    "\n",
    "targetRes = 50\n",
    "\n",
    "img = imgs[\"aerial.jpg\"]\n",
    "xStep = int( math.floor( float(img.shape[0]) / targetRes ) )\n",
    "yStep = int( math.floor( float(img.shape[1]) / targetRes ) )\n",
    "\n",
    "data = []\n",
    "\n",
    "for y in range(yStep):\n",
    "    for x in range(xStep):\n",
    "        \n",
    "        sample = []\n",
    "        \n",
    "        crop = imgs[\"aerial.jpg\"][x * targetRes : (x + 1) * targetRes, y * targetRes : (y + 1) * targetRes]\n",
    "        sample.append(crop)\n",
    "\n",
    "        for layer in [\"2000.jpg\", \"2005.jpg\", \"2010.jpg\", \"2016.jpg\"]:\n",
    "            target = imgs[layer][x * targetRes : (x + 1) * targetRes, y * targetRes : (y + 1) * targetRes]\n",
    "            target_val = int ( round( np.mean(target) ) )\n",
    "            sample.append(target_val)\n",
    "\n",
    "        data.append(sample)"
   ]
  },
  {
   "cell_type": "code",
   "execution_count": null,
   "metadata": {
    "collapsed": false
   },
   "outputs": [],
   "source": [
    "img_index = 50\n",
    "\n",
    "img = data[img_index][0]\n",
    "print \"image dimensions:\", img.shape\n",
    "print \"Value at time 0:\", (data[img_index][1])\n",
    "print \"Value at time 1:\", (data[img_index][2])\n",
    "print \"Value at time 2:\", (data[img_index][3])\n",
    "print \"Value at time 3:\", (data[img_index][4])\n",
    "\n",
    "imshow(img, cmap = plt.get_cmap('gray'), vmin = 0, vmax = 1,  interpolation='nearest')\n",
    "plt.axis('off')\n",
    "plt.show()"
   ]
  },
  {
   "cell_type": "code",
   "execution_count": null,
   "metadata": {
    "collapsed": true
   },
   "outputs": [],
   "source": [
    "recomp = {}\n",
    "\n",
    "for i, layer in enumerate([\"2000.jpg\", \"2005.jpg\", \"2010.jpg\", \"2016.jpg\"]):\n",
    "\n",
    "    recomp[layer] = np.ndarray((targetRes * xStep, targetRes * yStep), dtype=np.float32)\n",
    "\n",
    "    for y in range(yStep):\n",
    "        for x in range(xStep):\n",
    "            recomp[layer][x * targetRes : (x + 1) * targetRes, y * targetRes : (y + 1) * targetRes] = data[ y * xStep + x ][i+1]\n",
    "\n",
    "        \n",
    "for layer in [\"2000.jpg\", \"2005.jpg\", \"2010.jpg\", \"2016.jpg\"]:\n",
    "    print \"image dimensions:\", img.shape\n",
    "    print layer\n",
    "    imshow(recomp[layer], cmap = plt.get_cmap('gray'), vmin = 0, vmax = 1,  interpolation='nearest')\n",
    "    plt.axis('off')\n",
    "    plt.show()"
   ]
  },
  {
   "cell_type": "code",
   "execution_count": null,
   "metadata": {
    "collapsed": true
   },
   "outputs": [],
   "source": [
    "image_size = 50\n",
    "image_dim = 3 #RGB\n",
    "\n",
    "X = np.ndarray((len(data), image_size, image_size, image_dim), dtype=np.float32)\n",
    "y = np.ndarray((len(data), 1), dtype=np.int32)\n",
    "\n",
    "for i, d in enumerate(data):\n",
    "    X[i] = d[0]\n",
    "    y[i] = d[1]"
   ]
  },
  {
   "cell_type": "code",
   "execution_count": null,
   "metadata": {
    "collapsed": true
   },
   "outputs": [],
   "source": [
    "# build up a training set of image pixels as the feature data\n",
    "\n",
    "random.shuffle(data)\n",
    "\n",
    "trainingSplit = int(.7 * X.shape[0])\n",
    "\n",
    "X_train = X[:trainingSplit]\n",
    "y_train = y[:trainingSplit]\n",
    "X_test = X[trainingSplit:]\n",
    "y_test = y[trainingSplit:]\n",
    "\n",
    "X_train = X_train.astype('float32')\n",
    "X_test = X_test.astype('float32')\n",
    "X_train /= 50.0\n",
    "X_test /= 50.0"
   ]
  },
  {
   "cell_type": "code",
   "execution_count": null,
   "metadata": {
    "collapsed": true
   },
   "outputs": [],
   "source": [
    "#Pickle file\n",
    "\n",
    "pickle_file = imageFolder + '.pickle'\n",
    "\n",
    "try:\n",
    "    f = open(pickle_file, 'wb')\n",
    "    save = {\n",
    "        'X_train': X_train,\n",
    "        'y_train': y_train,\n",
    "        'X_test': X_test,\n",
    "        'y_test': y_test,\n",
    "    }\n",
    "    pickle.dump(save, f, pickle.HIGHEST_PROTOCOL)\n",
    "    f.close()\n",
    "except Exception as e:\n",
    "    print 'Unable to save data to', pickle_file, ':', e\n",
    "    raise\n",
    "    \n",
    "statinfo = os.stat(pickle_file)\n",
    "print 'Saved data to', pickle_file\n",
    "print 'Compressed pickle size:', statinfo.st_size"
   ]
  }
 ],
 "metadata": {
  "anaconda-cloud": {},
  "kernelspec": {
   "display_name": "Python [default]",
   "language": "python",
   "name": "python2"
  },
  "language_info": {
   "codemirror_mode": {
    "name": "ipython",
    "version": 2
   },
   "file_extension": ".py",
   "mimetype": "text/x-python",
   "name": "python",
   "nbconvert_exporter": "python",
   "pygments_lexer": "ipython2",
   "version": "2.7.12"
  }
 },
 "nbformat": 4,
 "nbformat_minor": 1
}
